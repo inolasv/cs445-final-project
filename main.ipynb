{
 "cells": [
  {
   "cell_type": "markdown",
   "metadata": {},
   "source": [
    "# CS445 Final Project - Emoji Emotion Detection\n",
    "Project By: Saloni Vaishnav, Manushri Dilipkumar, Megha Esturi, Riya Shah"
   ]
  },
  {
   "cell_type": "code",
   "execution_count": null,
   "metadata": {},
   "outputs": [],
   "source": [
    "import cv2\n",
    "import matplotlib.pyplot as plt\n",
    "import numpy as np\n",
    "import os \n",
    "import tensorflow as tf \n",
    "\n",
    "from glob import glob\n",
    "from tensorflow import keras "
   ]
  },
  {
   "cell_type": "markdown",
   "metadata": {},
   "source": [
    "### Input Data and Develop the Model"
   ]
  },
  {
   "cell_type": "code",
   "execution_count": null,
   "metadata": {},
   "outputs": [],
   "source": [
    "# import the datasets\n",
    "training_dataset = keras.utils.image_dataset_from_directory (\n",
    "        'images/train', \n",
    "        labels=\"inferred\", \n",
    "        label_mode=\"categorical\", \n",
    "        batch_size=64,\n",
    "        color_mode='grayscale',\n",
    "        image_size=(48, 48))\n",
    "validation_dataset = keras.utils.image_dataset_from_directory (\n",
    "        'images/validation', \n",
    "        labels=\"inferred\", \n",
    "        label_mode=\"categorical\",\n",
    "        batch_size=64,\n",
    "        color_mode='rgb',\n",
    "        image_size=(48, 48))\n",
    "\n",
    "rescaling_layer = tf.keras.layers.Rescaling(1./255)\n",
    "\n",
    "# normalize the datasets\n",
    "training_dataset = training_dataset.map(lambda x, y: (rescaling_layer(x), y))\n",
    "validation_dataset = validation_dataset.map(lambda x, y: (rescaling_layer(x), y))"
   ]
  },
  {
   "cell_type": "code",
   "execution_count": null,
   "metadata": {},
   "outputs": [],
   "source": [
    "emotions = [\"angry\", \"disgust\", \"fear\", \"happy\", \"neutral\", \"sad\", \"surprise\"]"
   ]
  },
  {
   "cell_type": "code",
   "execution_count": null,
   "metadata": {},
   "outputs": [],
   "source": [
    "cnn_model = keras.models.Sequential([ \n",
    "                                    keras.layers.Conv2D(32, (3, 3), activation='relu', input_shape=(48, 48, 1)),                                     \n",
    "                                    keras.layers.Conv2D(64, (3, 3), activation='relu'), \n",
    "                                    keras.layers.MaxPooling2D(2, 2),\n",
    "                                    keras.layers.Flatten(), \n",
    "                                    keras.layers.Dense(64, activation='relu'), \n",
    "                                    keras.layers.BatchNormalization(),                                 \n",
    "                                    keras.layers.Dense(32, activation='relu'), \n",
    "                                    keras.layers.Dropout(0.3), \n",
    "                                    keras.layers.BatchNormalization(), \n",
    "                                    keras.layers.Dense(7, activation='softmax')])"
   ]
  },
  {
   "cell_type": "code",
   "execution_count": null,
   "metadata": {},
   "outputs": [],
   "source": [
    "cnn_model.compile( \n",
    "    optimizer = 'SGD', # adam\n",
    "    loss = 'categorical_crossentropy', # categorical_crossentropy\n",
    "    metrics=['accuracy'] \n",
    ")"
   ]
  },
  {
   "cell_type": "code",
   "execution_count": null,
   "metadata": {},
   "outputs": [],
   "source": [
    "trained_model = cnn_model.fit(training_dataset,\n",
    "                                validation_data = validation_dataset, \n",
    "                                epochs = 5, \n",
    "                                verbose = 1)"
   ]
  },
  {
   "cell_type": "code",
   "execution_count": null,
   "metadata": {},
   "outputs": [],
   "source": []
  }
 ],
 "metadata": {
  "kernelspec": {
   "display_name": "Python 3.10.5 64-bit",
   "language": "python",
   "name": "python3"
  },
  "language_info": {
   "codemirror_mode": {
    "name": "ipython",
    "version": 3
   },
   "file_extension": ".py",
   "mimetype": "text/x-python",
   "name": "python",
   "nbconvert_exporter": "python",
   "pygments_lexer": "ipython3",
   "version": "3.10.5"
  },
  "orig_nbformat": 4,
  "vscode": {
   "interpreter": {
    "hash": "aee8b7b246df8f9039afb4144a1f6fd8d2ca17a180786b69acc140d282b71a49"
   }
  }
 },
 "nbformat": 4,
 "nbformat_minor": 2
}
